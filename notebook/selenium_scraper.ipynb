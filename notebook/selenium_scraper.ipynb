{
 "cells": [
  {
   "cell_type": "code",
   "execution_count": 30,
   "metadata": {},
   "outputs": [],
   "source": [
    "from selenium import webdriver\n",
    "from chromedriver_py import binary_path # this will get you the path variable\n",
    "import os\n",
    "\n",
    "\n",
    "REPO_DIR = os.path.dirname(os.path.abspath(''))\n",
    "\n",
    "def load_configs():\n",
    "    #dotenv_path = os.path.join(env_file_location_dir, '.env')\n",
    "    #load_dotenv(dotenv_path)\n",
    "\n",
    "    #chrome_driver = os.environ.get(\"CHROME_DRIVER\")\n",
    "    #user_agent = os.environ.get(\"USER_AGENT\")\n",
    "    #return chrome_driver, user_agent\n",
    "    pass \n",
    "\n",
    "def get_driver():\n",
    "    #configs = load_configs()\n",
    "    #if isinstance(configs, tuple):\n",
    "        # local env dev\n",
    "    #chrome_driver_path, user_agent = configs\n",
    "    #print(chrome_driver_path)\n",
    "    driver = webdriver.Chrome(binary_path)\n",
    "    return driver"
   ]
  },
  {
   "cell_type": "code",
   "execution_count": 68,
   "metadata": {},
   "outputs": [
    {
     "data": {
      "text/plain": [
       "\"L'excellence au pied du monument 3\\n1 chambre90 m²\\nOuakam, Dakar\\nAujourd'hui, 19:01\\n25\\u202f000 F Cfa\""
      ]
     },
     "execution_count": 68,
     "metadata": {},
     "output_type": "execute_result"
    }
   ],
   "source": [
    "url = \"https://www.expat-dakar.com/immobilier\"\n",
    "driver = get_driver()\n",
    "driver.get(url)\n",
    "#def __get_class(driver, class_name):\n",
    "#    return [s.text for s in driver.find_elements_by_class_name(class_name)]\n",
    "\n",
    "#def get_span(driver):\n",
    "#    return [s.text for  s in driver.find_elements_by_xpath('.//div[starts-with(., \"listing-card__header__tags__item listing-card__header__tags__item--no-of-bedrooms listing-card__header__tags__item--no-of-bedrooms_\")]')]\n",
    "#class_name = \"listing-card__header__title\"\n",
    "#class_name = \"listing-card__header__tags__item listing-card__header__tags__item--no-of-bedrooms listing-card__header__tags__item--no-of-bedrooms_1\"\n",
    "#get_span(driver)\n",
    "driver.find_element_by_xpath(\"//div[@class='listing-card listing-card--tab listing-card--has-contact listing-card--has-content listing-card--highlight-placeholder']/a\").text\n"
   ]
  }
 ],
 "metadata": {
  "kernelspec": {
   "display_name": "Python 3",
   "language": "python",
   "name": "python3"
  },
  "language_info": {
   "codemirror_mode": {
    "name": "ipython",
    "version": 3
   },
   "file_extension": ".py",
   "mimetype": "text/x-python",
   "name": "python",
   "nbconvert_exporter": "python",
   "pygments_lexer": "ipython3",
   "version": "3.8.8"
  }
 },
 "nbformat": 4,
 "nbformat_minor": 2
}
