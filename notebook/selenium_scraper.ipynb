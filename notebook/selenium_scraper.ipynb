{
 "cells": [
  {
   "cell_type": "code",
   "execution_count": 1,
   "metadata": {},
   "outputs": [],
   "source": [
    "from selenium import webdriver\n",
    "from chromedriver_py import binary_path # this will get you the path variable\n",
    "import os\n",
    "\n",
    "\n",
    "REPO_DIR = os.path.dirname(os.path.abspath(''))\n",
    "\n",
    "def load_configs():\n",
    "    #dotenv_path = os.path.join(env_file_location_dir, '.env')\n",
    "    #load_dotenv(dotenv_path)\n",
    "\n",
    "    #chrome_driver = os.environ.get(\"CHROME_DRIVER\")\n",
    "    #user_agent = os.environ.get(\"USER_AGENT\")\n",
    "    #return chrome_driver, user_agent\n",
    "    pass \n",
    "\n",
    "def get_driver():\n",
    "    #configs = load_configs()\n",
    "    #if isinstance(configs, tuple):\n",
    "        # local env dev\n",
    "    #chrome_driver_path, user_agent = configs\n",
    "    #print(chrome_driver_path)\n",
    "    driver = webdriver.Chrome(binary_path)\n",
    "    return driver"
   ]
  },
  {
   "cell_type": "code",
   "execution_count": 28,
   "metadata": {},
   "outputs": [
    {
     "ename": "SyntaxError",
     "evalue": "invalid syntax (<ipython-input-28-42098a4ba2c7>, line 12)",
     "output_type": "error",
     "traceback": [
      "\u001b[1;36m  File \u001b[1;32m\"<ipython-input-28-42098a4ba2c7>\"\u001b[1;36m, line \u001b[1;32m12\u001b[0m\n\u001b[1;33m    .recaracteristique=driver.find_element_by_xpath(\"//div[@class='listing-card listing-card--tab listing-card--has-contact listing-card--has-content listing-card--highlight-placeholder']/a\").text.replace('\\n', ' ').strip()\u001b[0m\n\u001b[1;37m    ^\u001b[0m\n\u001b[1;31mSyntaxError\u001b[0m\u001b[1;31m:\u001b[0m invalid syntax\n"
     ]
    }
   ],
   "source": [
    "url = \"https://www.expat-dakar.com/immobilier\"\n",
    "driver = get_driver()\n",
    "driver.get(url)\n",
    "#def __get_class(driver, class_name):\n",
    "#    return [s.text for s in driver.find_elements_by_class_name(class_name)]\n",
    "\n",
    "#def get_span(driver):\n",
    "#    return [s.text for  s in driver.find_elements_by_xpath('.//div[starts-with(., \"listing-card__header__tags__item listing-card__header__tags__item--no-of-bedrooms listing-card__header__tags__item--no-of-bedrooms_\")]')]\n",
    "#class_name = \"listing-card__header__title\"\n",
    "#class_name = \"listing-card__header__tags__item listing-card__header__tags__item--no-of-bedrooms listing-card__header__tags__item--no-of-bedrooms_1\"\n",
    "#get_span(driver)\n",
    ".recaracteristique=driver.find_element_by_xpath(\"//div[@class='listing-card listing-card--tab listing-card--has-contact listing-card--has-content listing-card--highlight-placeholder']/a\").text.replace('\\n', ' ').strip()\n",
    "print(caracteristique)"
   ]
  },
  {
   "cell_type": "code",
   "execution_count": 27,
   "metadata": {},
   "outputs": [
    {
     "ename": "TypeError",
     "evalue": "'str' object is not callable",
     "output_type": "error",
     "traceback": [
      "\u001b[1;31m---------------------------------------------------------------------------\u001b[0m",
      "\u001b[1;31mTypeError\u001b[0m                                 Traceback (most recent call last)",
      "\u001b[1;32m<ipython-input-27-b31875dcc364>\u001b[0m in \u001b[0;36m<module>\u001b[1;34m\u001b[0m\n\u001b[0;32m     12\u001b[0m \u001b[1;33m\u001b[0m\u001b[0m\n\u001b[0;32m     13\u001b[0m \u001b[1;31m#elements = driver.find_elements_by_xpath(\"//*[@class='listing-card']\")\u001b[0m\u001b[1;33m\u001b[0m\u001b[1;33m\u001b[0m\u001b[1;33m\u001b[0m\u001b[0m\n\u001b[1;32m---> 14\u001b[1;33m \u001b[0mcaracteristique\u001b[0m\u001b[1;33m=\u001b[0m\u001b[0mdriver\u001b[0m\u001b[1;33m.\u001b[0m\u001b[0mfind_element_by_xpath\u001b[0m\u001b[1;33m(\u001b[0m\u001b[1;34m\"//div[@class='listing-card listing-card--tab listing-card--has-contact listing-card--has-content listing-card--highlight-placeholder']\"\u001b[0m\u001b[1;33m)\u001b[0m\u001b[1;33m.\u001b[0m\u001b[0mtext\u001b[0m\u001b[1;33m(\u001b[0m\u001b[1;33m)\u001b[0m\u001b[1;33m\u001b[0m\u001b[1;33m\u001b[0m\u001b[0m\n\u001b[0m\u001b[0;32m     15\u001b[0m \u001b[1;31m#caracteristique=driver.find_elements_by_xpath(\"//div[@class='listing-card listing-card--tab listing-card--has-contact listing-card--has-content listing-card--highlight-placeholder']\").text\u001b[0m\u001b[1;33m\u001b[0m\u001b[1;33m\u001b[0m\u001b[1;33m\u001b[0m\u001b[0m\n\u001b[0;32m     16\u001b[0m \u001b[0mprint\u001b[0m\u001b[1;33m(\u001b[0m\u001b[0mcaracteristique\u001b[0m\u001b[1;33m)\u001b[0m\u001b[1;33m\u001b[0m\u001b[1;33m\u001b[0m\u001b[0m\n",
      "\u001b[1;31mTypeError\u001b[0m: 'str' object is not callable"
     ]
    }
   ],
   "source": [
    "url = \"https://www.expat-dakar.com/immobilier\"\n",
    "driver = get_driver()\n",
    "driver.get(url)\n",
    "#def __get_class(driver, class_name):\n",
    "#    return [s.text for s in driver.find_elements_by_class_name(class_name)]\n",
    "\n",
    "#def get_span(driver):\n",
    "#    return [s.text for  s in driver.find_elements_by_xpath('.//div[starts-with(., \"listing-card__header__tags__item listing-card__header__tags__item--no-of-bedrooms listing-card__header__tags__item--no-of-bedrooms_\")]')]\n",
    "#class_name = \"listing-card__header__title\"\n",
    "#class_name = \"listing-card__header__tags__item listing-card__header__tags__item--no-of-bedrooms listing-card__header__tags__item--no-of-bedrooms_1\"\n",
    "#get_span(driver)\n",
    "\n",
    "#elements = driver.find_elements_by_xpath(\"//*[@class='listing-card']\")\n",
    "caracteristique=driver.find_element_by_xpath(\"//div[@class='listing-card listing-card--tab listing-card--has-contact listing-card--has-content listing-card--highlight-placeholder']\").text()\n",
    "#caracteristique=driver.find_elements_by_xpath(\"//div[@class='listing-card listing-card--tab listing-card--has-contact listing-card--has-content listing-card--highlight-placeholder']\").text\n",
    "print(caracteristique)\n",
    "#print(elements)"
   ]
  },
  {
   "cell_type": "code",
   "execution_count": 24,
   "metadata": {},
   "outputs": [
    {
     "name": "stdout",
     "output_type": "stream",
     "text": [
      "listing-card listing-card--tab listing-card--has-contact listing-card--has-content listing-card--highlight-placeholder\n",
      "listing-card listing-card--tab listing-card--has-contact listing-card--has-content listing-card--highlight-placeholder\n",
      "listing-card listing-card--tab listing-card--has-contact listing-card--has-content listing-card--highlight-placeholder\n",
      "listing-card listing-card--tab listing-card--has-contact listing-card--has-content listing-card--highlight-placeholder\n",
      "listing-card listing-card--tab listing-card--has-contact listing-card--has-content listing-card--highlight-placeholder\n",
      "listing-card listing-card--tab listing-card--has-contact listing-card--has-content listing-card--highlight-placeholder\n",
      "listing-card listing-card--tab listing-card--has-contact listing-card--has-content listing-card--highlight-placeholder\n",
      "listing-card listing-card--tab listing-card--has-contact listing-card--has-content listing-card--highlight-placeholder\n",
      "listing-card listing-card--tab listing-card--has-contact listing-card--has-content listing-card--highlight-placeholder\n",
      "listing-card listing-card--tab listing-card--has-contact listing-card--has-content listing-card--highlight-placeholder\n",
      "listing-card listing-card--tab listing-card--has-contact listing-card--has-content listing-card--highlight-placeholder\n",
      "listing-card listing-card--tab listing-card--has-contact listing-card--has-content listing-card--highlight-placeholder\n"
     ]
    }
   ],
   "source": [
    "for ii in caracteristique:\n",
    "    #print ii.tag_name\n",
    "    print (ii.get_attribute('class'))   "
   ]
  },
  {
   "cell_type": "code",
   "execution_count": null,
   "metadata": {},
   "outputs": [],
   "source": []
  }
 ],
 "metadata": {
  "kernelspec": {
   "display_name": "Python 3",
   "language": "python",
   "name": "python3"
  },
  "language_info": {
   "codemirror_mode": {
    "name": "ipython",
    "version": 3
   },
   "file_extension": ".py",
   "mimetype": "text/x-python",
   "name": "python",
   "nbconvert_exporter": "python",
   "pygments_lexer": "ipython3",
   "version": "3.8.5"
  }
 },
 "nbformat": 4,
 "nbformat_minor": 2
}
